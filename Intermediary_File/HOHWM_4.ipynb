{
 "cells": [
  {
   "cell_type": "code",
   "execution_count": 1,
   "metadata": {},
   "outputs": [],
   "source": [
    "from HOHWM import *\n",
    "import numpy as np\n",
    "import scipy as sp\n",
    "import matplotlib.pyplot as plt"
   ]
  },
  {
   "cell_type": "code",
   "execution_count": 2,
   "metadata": {},
   "outputs": [],
   "source": [
    "f = lambda x: np.sin(np.pi * x)\n",
    "K = lambda x, t, u: 1/5 * np.cos(np.pi * x) * np.sin(np.pi * t) * (u ** 3)\n",
    "u_true = lambda x: np.sin(np.pi * x) + 1/3 * (20 - np.sqrt(391)) * np.cos(np.pi * x)"
   ]
  },
  {
   "cell_type": "code",
   "execution_count": 3,
   "metadata": {},
   "outputs": [
    {
     "name": "stdout",
     "output_type": "stream",
     "text": [
      "3.3306690738754696e-16\n"
     ]
    }
   ],
   "source": [
    "from scipy import integrate\n",
    "\n",
    "x_list = np.random.rand(1000)\n",
    "result_list = np.zeros(1000)\n",
    "for i, x in enumerate(x_list):\n",
    "    result_list[i] = u_true(x) - f(x) - integrate.quad(lambda t: K(x, t, u_true(t)), 0, 1)[0]\n",
    "result_list = np.abs(result_list)\n",
    "print(np.max(result_list))"
   ]
  },
  {
   "cell_type": "code",
   "execution_count": 4,
   "metadata": {},
   "outputs": [
    {
     "data": {
      "text/plain": [
       "<Figure size 1800x1200 with 0 Axes>"
      ]
     },
     "metadata": {},
     "output_type": "display_data"
    },
    {
     "data": {
      "image/png": "[encoded data removed]",
      "text/plain": [
       "<Figure size 360x216 with 1 Axes>"
      ]
     },
     "metadata": {
      "needs_background": "light"
     },
     "output_type": "display_data"
    }
   ],
   "source": [
    "# plot u_true with dpi = 300\n",
    "x = np.linspace(0, 1, 100)\n",
    "plt.figure(dpi=300)\n",
    "plt.figure(figsize=(5, 3))\n",
    "plt.plot(x, u_true(x), label='u_true')\n",
    "plt.legend()\n",
    "plt.show()"
   ]
  },
  {
   "cell_type": "code",
   "execution_count": 5,
   "metadata": {},
   "outputs": [],
   "source": [
    "def system_equations(vars):\n",
    "    C1 = vars[0]\n",
    "    coef_haar = vars[1:]\n",
    "\n",
    "    N = len(coef_haar)\n",
    "    x = collocation(N)\n",
    "    t = collocation(N)\n",
    "    eqs = np.zeros(N + 1)\n",
    "    \n",
    "    # C1 part\n",
    "    sigma_C1 = 0\n",
    "    for k in range(N):\n",
    "        for i in range(N):\n",
    "            sigma_C1 += K(0, t[k], C1 + coef_haar[i] * haar_int_1(t[k], i + 1))\n",
    "    eqs[0] = C1 - (f(0) + 1/N * sigma_C1)\n",
    "\n",
    "    # Haar part\n",
    "    sigma_LHS = np.zeros(N)\n",
    "    sigma_RHS = np.zeros(N)\n",
    "    for i in range(N):\n",
    "        sigma_LHS += coef_haar[i] * haar_int_1(x, i + 1)\n",
    "    for k in range(N):\n",
    "        for i in range(N):\n",
    "            sigma_RHS += K(x, t[k], C1 + coef_haar[i] * haar_int_1(t[k], i + 1))\n",
    "    eqs[1:] = C1 + sigma_LHS - f(x) - 1/N * sigma_RHS\n",
    "    return eqs\n"
   ]
  },
  {
   "cell_type": "code",
   "execution_count": 45,
   "metadata": {},
   "outputs": [],
   "source": [
    "N = 64\n",
    "vars = sp.optimize.root(system_equations, np.zeros(N + 1)).x\n",
    "C1 = vars[0]\n",
    "coef_haar = vars[1:]"
   ]
  },
  {
   "cell_type": "code",
   "execution_count": 46,
   "metadata": {},
   "outputs": [],
   "source": [
    "u_haar_approx = np.zeros(N)\n",
    "for k in range(N):\n",
    "    u_haar_approx += coef_haar[k] * haar_int_1(collocation(N), k + 1)\n",
    "u_haar_approx += C1"
   ]
  },
  {
   "cell_type": "code",
   "execution_count": 47,
   "metadata": {},
   "outputs": [
    {
     "data": {
      "text/plain": [
       "<Figure size 1800x1200 with 0 Axes>"
      ]
     },
     "metadata": {},
     "output_type": "display_data"
    },
    {
     "data": {
      "image/png": "[encoded data removed]",
      "text/plain": [
       "<Figure size 360x216 with 1 Axes>"
      ]
     },
     "metadata": {
      "needs_background": "light"
     },
     "output_type": "display_data"
    }
   ],
   "source": [
    "# plot u_haar_approx and true function on same plot with dpi = 300\n",
    "x = np.linspace(0, 1, 101)\n",
    "plt.figure(dpi=300)\n",
    "plt.figure(figsize=(5, 3))\n",
    "plt.plot(collocation(N), u_haar_approx, label='u_haar_approx', linestyle=':')\n",
    "plt.plot(x, u_true(x), label='u_true')\n",
    "plt.legend()\n",
    "plt.show()"
   ]
  },
  {
   "cell_type": "code",
   "execution_count": 48,
   "metadata": {},
   "outputs": [
    {
     "data": {
      "text/plain": [
       "0.08559285532409645"
      ]
     },
     "execution_count": 48,
     "metadata": {},
     "output_type": "execute_result"
    }
   ],
   "source": [
    "error = np.abs(u_haar_approx - u_true(collocation(N)))\n",
    "error = np.linalg.norm(error)\n",
    "error"
   ]
  }
 ],
 "metadata": {
  "kernelspec": {
   "display_name": "Python 3",
   "language": "python",
   "name": "python3"
  },
  "language_info": {
   "codemirror_mode": {
    "name": "ipython",
    "version": 3
   },
   "file_extension": ".py",
   "mimetype": "text/x-python",
   "name": "python",
   "nbconvert_exporter": "python",
   "pygments_lexer": "ipython3",
   "version": "3.9.13"
  }
 },
 "nbformat": 4,
 "nbformat_minor": 2
}
