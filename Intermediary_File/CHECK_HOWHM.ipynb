{
 "cells": [
  {
   "cell_type": "code",
   "execution_count": 57,
   "metadata": {},
   "outputs": [],
   "source": [
    "import numpy as np"
   ]
  },
  {
   "cell_type": "code",
   "execution_count": 58,
   "metadata": {},
   "outputs": [],
   "source": [
    "def index(i):\n",
    "    \"\"\"Calculate the step-value of the i-th Haar wavelet.\"\"\"\n",
    "    j = int(np.ceil(np.log2(i))) - 1\n",
    "    k = int(i - 2**j) - 1\n",
    "    return j, k\n",
    "\n",
    "def collocation(N):\n",
    "    return np.linspace(0, 1, N, endpoint=False) + 0.5 / N\n",
    "\n",
    "def haar_int_2(x, i):\n",
    "    \"\"\"\n",
    "    x: input vector\n",
    "    i: the index of the Haar wavelet function\n",
    "\n",
    "    return: the second-order integration of the Haar wavelet function\n",
    "    \"\"\"\n",
    "    if i == 1:\n",
    "        return 0.5 * x ** 2\n",
    "    if i >= 2:\n",
    "        j, k = index(i) # j is the scale, k is the translation\n",
    "        m = 2 ** j\n",
    "        alpha = k / m\n",
    "        beta = (k + 0.5) / m\n",
    "        gamma = (k + 1) / m\n",
    "        a = 1. * (x>=alpha) * (x<beta) * (x - alpha) ** 2 / 2\n",
    "        b = -1. * (x>=beta) * (x<=gamma) * ((x - gamma) ** 2 / 2 - (beta - alpha) ** 2)\n",
    "        c = 1. * (x>= gamma) * (x <= 1) * (beta - alpha) ** 2\n",
    "        if i != 0 and (i & (i - 1)) == 0: # if i is power of 2\n",
    "            c = 0\n",
    "        int_2 = a + b + c\n",
    "        return int_2\n",
    "\n",
    "def haar_int_2_mat(x, N):\n",
    "    mat = np.zeros((N, len(x)))\n",
    "    for j in range(1, N + 1):\n",
    "        mat[:, j - 1] = haar_int_2(x, j)\n",
    "    return mat\n"
   ]
  },
  {
   "cell_type": "code",
   "execution_count": 59,
   "metadata": {},
   "outputs": [
    {
     "name": "stdout",
     "output_type": "stream",
     "text": [
      "[0.25 0.75]\n"
     ]
    }
   ],
   "source": [
    "x = collocation(2)\n",
    "t = collocation(2)\n",
    "print(x)"
   ]
  },
  {
   "cell_type": "code",
   "execution_count": 60,
   "metadata": {},
   "outputs": [],
   "source": [
    "f = lambda x: np.exp(x) + np.exp(-x)\n",
    "K = lambda x, t: -np.exp(-(x + t))\n",
    "u_true = lambda x: np.exp(x)"
   ]
  },
  {
   "cell_type": "code",
   "execution_count": 61,
   "metadata": {},
   "outputs": [],
   "source": [
    "f = lambda x: 5/6 * x - 1/9\n",
    "K = lambda x, t: 1/3 * (x + t)\n",
    "u_true = lambda x: x"
   ]
  },
  {
   "cell_type": "code",
   "execution_count": 62,
   "metadata": {},
   "outputs": [],
   "source": [
    "S2 = 1/2 * (K(0, t[0]) + K(0, t[1]))\n",
    "\n",
    "S3 = 1/2 * (K(1, t[0]) + K(1, t[1]))\n",
    "\n",
    "S4 = 1/2 * (K(0, t[0]) * t[0] \n",
    "            + K(0, t[1]) * t[1])\n",
    "\n",
    "S5 = 1/2 * (K(1, t[0]) * t[0]\n",
    "            + K(1, t[1]) * t[1])\n",
    "\n",
    "S8 = 1 - S2 + S4 * (1 - S3) - S5 * (1 - S2)\n",
    "\n",
    "S6 = np.zeros(2)\n",
    "S6[0] = 1/2 * (K(0, t[0]) * haar_int_2(t[0], 1)\n",
    "            + K(0, t[1]) * haar_int_2(t[1], 1))\n",
    "S6[1] = 1/2 * (K(0, t[0]) * haar_int_2(t[0], 2)\n",
    "            + K(0, t[1]) * haar_int_2(t[1], 2))\n",
    "\n",
    "S7 = np.zeros(2)\n",
    "S7[0] = 1/2 * (K(1, t[0]) * haar_int_2(t[0], 1)\n",
    "            + K(1, t[1]) * haar_int_2(t[1], 1))\n",
    "S7[1] = 1/2 * (K(1, t[0]) * haar_int_2(t[0], 2)\n",
    "            + K(1, t[1]) * haar_int_2(t[1], 2))\n",
    "\n",
    "A = f(0) * (1 - S5) + f(1) * S4\n",
    "\n",
    "D = -f(0) * (1 - S3) + f(1) * (1 - S2)"
   ]
  },
  {
   "cell_type": "code",
   "execution_count": 63,
   "metadata": {},
   "outputs": [],
   "source": [
    "VB = np.zeros(2)\n",
    "VB[0] = haar_int_2(1, 1) - S7[0]\n",
    "VB[1] = haar_int_2(1, 2) - S7[1]\n",
    "\n",
    "VE = (1 - S5) * S6 - S4 * VB\n",
    "VF = (1 - S3) * S6 + (1 - S2) * VB\n",
    "\n",
    "VP = np.zeros(2)\n",
    "VP[0] = 1 - 1/2 * (K(x[0], t[0]) + K(x[0], t[1]))\n",
    "VP[1] = 1 - 1/2 * (K(x[1], t[0]) + K(x[1], t[1]))\n",
    "\n",
    "VQ = np.zeros(2)\n",
    "VQ[0] = x[0] - 1/2 * (K(x[0], t[0]) * t[0] + K(x[0], t[1]) * t[1])\n",
    "VQ[1] = x[1] - 1/2 * (K(x[1], t[0]) * t[0] + K(x[1], t[1]) * t[1])"
   ]
  },
  {
   "cell_type": "code",
   "execution_count": 64,
   "metadata": {},
   "outputs": [
    {
     "name": "stdout",
     "output_type": "stream",
     "text": [
      "[[0. 0.]\n",
      " [0. 0.]]\n"
     ]
    }
   ],
   "source": [
    "MA = np.zeros((2, 2))\n",
    "MA[0, 0] = (\n",
    "    K(x[0], t[0]) * haar_int_2(t[0], 1) + K(x[0], t[1]) * haar_int_2(t[1], 1)\n",
    ") # i = 1\n",
    "MA[0, 1] =  (\n",
    "    K(x[0], t[0]) * haar_int_2(t[0], 2) + K(x[0], t[1]) * haar_int_2(t[1], 2)\n",
    ") # i = 2\n",
    "MA[1, 0] = (\n",
    "    K(x[1], t[0]) * haar_int_2(t[0], 1) +  K(x[1], t[1]) * haar_int_2(t[1], 1)\n",
    ")\n",
    "MA[1, 1] = (\n",
    "    K(x[1], t[0]) * haar_int_2(t[0], 2) + K(x[1], t[1]) * haar_int_2(t[1], 2)\n",
    ")\n",
    "\n",
    "haar_mat = np.zeros((2, 2))\n",
    "haar_mat[0, 0] = haar_int_2(x[0], 1)\n",
    "haar_mat[0, 1] = haar_int_2(x[0], 2)\n",
    "haar_mat[1, 0] = haar_int_2(x[1], 1)\n",
    "haar_mat[1, 1] = haar_int_2(x[1], 2)\n",
    "\n",
    "MA = haar_mat - 1/2 * MA\n",
    "\n",
    "print(haar_mat - haar_int_2_mat(x, 2))"
   ]
  },
  {
   "cell_type": "code",
   "execution_count": 65,
   "metadata": {},
   "outputs": [
    {
     "name": "stdout",
     "output_type": "stream",
     "text": [
      "S2 =  0.16666666666666666\n",
      "S3 =  0.49999999999999994\n",
      "S4 =  0.10416666666666667\n",
      "S5 =  0.2708333333333333\n",
      "S6 =  [0.03645833 0.02864583]\n",
      "S7 =  [0.08854167 0.0703125 ]\n",
      "S8 =  0.6597222222222223\n",
      "A =  -0.005787037037037021\n",
      "D =  0.6574074074074076\n",
      "VB =  [0.41145833 0.1796875 ]\n",
      "VE =  [-0.01627604  0.00217014]\n",
      "VF =  [0.36111111 0.1640625 ]\n",
      "VP =  [0.75       0.58333333]\n",
      "VQ =  [0.10416667 0.52083333]\n",
      "MA =  [[-0.01822917 -0.0078125 ]\n",
      " [ 0.20572917  0.15885417]]\n"
     ]
    }
   ],
   "source": [
    "# print all the values\n",
    "print(\"S2 = \", S2)\n",
    "print(\"S3 = \", S3)\n",
    "print(\"S4 = \", S4)\n",
    "print(\"S5 = \", S5)\n",
    "print(\"S6 = \", S6)\n",
    "print(\"S7 = \", S7)\n",
    "print(\"S8 = \", S8)\n",
    "print(\"A = \", A)\n",
    "print(\"D = \", D)\n",
    "print(\"VB = \", VB)\n",
    "print(\"VE = \", VE)\n",
    "print(\"VF = \", VF)\n",
    "print(\"VP = \", VP)\n",
    "print(\"VQ = \", VQ)\n",
    "print(\"MA = \", MA)"
   ]
  },
  {
   "cell_type": "code",
   "execution_count": 66,
   "metadata": {},
   "outputs": [],
   "source": [
    "LHS = MA + (1 / S8) * np.outer(VP, VE) - (1 / S8) * np.outer(VQ, VF)\n",
    "RHS = f(x) - 1 / S8 * (A * VP + D * VQ)"
   ]
  },
  {
   "cell_type": "code",
   "execution_count": 67,
   "metadata": {},
   "outputs": [
    {
     "name": "stdout",
     "output_type": "stream",
     "text": [
      "LHS =  [[-0.09375 -0.03125]\n",
      " [-0.09375  0.03125]]\n",
      "RHS =  [-1.38777878e-17 -2.22044605e-16]\n"
     ]
    }
   ],
   "source": [
    "print(\"LHS = \", LHS)\n",
    "print(\"RHS = \", RHS)"
   ]
  },
  {
   "cell_type": "code",
   "execution_count": 68,
   "metadata": {},
   "outputs": [],
   "source": [
    "coefs = np.linalg.solve(LHS, RHS)\n",
    "C1 = (1/S8) * (A + np.dot(VE, coefs))\n",
    "C2 = (1/S8) * (D - np.dot(VF, coefs))"
   ]
  },
  {
   "cell_type": "code",
   "execution_count": 69,
   "metadata": {},
   "outputs": [
    {
     "name": "stdout",
     "output_type": "stream",
     "text": [
      "C1 =  -0.00877192982456142\n",
      "C2 =  0.9964912280701758\n",
      "coefs =  [ 1.25825276e-15 -3.33066907e-15]\n"
     ]
    }
   ],
   "source": [
    "print(\"C1 = \", C1)\n",
    "print(\"C2 = \", C2)\n",
    "print(\"coefs = \", coefs)"
   ]
  }
 ],
 "metadata": {
  "kernelspec": {
   "display_name": "Python 3",
   "language": "python",
   "name": "python3"
  },
  "language_info": {
   "codemirror_mode": {
    "name": "ipython",
    "version": 3
   },
   "file_extension": ".py",
   "mimetype": "text/x-python",
   "name": "python",
   "nbconvert_exporter": "python",
   "pygments_lexer": "ipython3",
   "version": "3.9.13"
  }
 },
 "nbformat": 4,
 "nbformat_minor": 2
}
